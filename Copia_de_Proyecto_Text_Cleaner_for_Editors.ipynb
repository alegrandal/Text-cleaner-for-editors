{
  "nbformat": 4,
  "nbformat_minor": 0,
  "metadata": {
    "colab": {
      "provenance": [],
      "authorship_tag": "ABX9TyNOzzpHbykmFsAgSD4PKU/1",
      "include_colab_link": true
    },
    "kernelspec": {
      "name": "python3",
      "display_name": "Python 3"
    },
    "language_info": {
      "name": "python"
    }
  },
  "cells": [
    {
      "cell_type": "markdown",
      "metadata": {
        "id": "view-in-github",
        "colab_type": "text"
      },
      "source": [
        "<a href=\"https://colab.research.google.com/github/alegrandal/Text-cleaner-for-editors/blob/main/Copia_de_Proyecto_Text_Cleaner_for_Editors.ipynb\" target=\"_parent\"><img src=\"https://colab.research.google.com/assets/colab-badge.svg\" alt=\"Open In Colab\"/></a>"
      ]
    },
    {
      "cell_type": "code",
      "execution_count": null,
      "metadata": {
        "colab": {
          "base_uri": "https://localhost:8080/"
        },
        "id": "rOx8AeRWXkIw",
        "outputId": "8983d98a-1925-448f-df4a-dd27f3d31494"
      },
      "outputs": [
        {
          "output_type": "stream",
          "name": "stdout",
          "text": [
            "Requirement already satisfied: python-docx in /usr/local/lib/python3.12/dist-packages (1.2.0)\n",
            "Requirement already satisfied: lxml>=3.1.0 in /usr/local/lib/python3.12/dist-packages (from python-docx) (5.4.0)\n",
            "Requirement already satisfied: typing_extensions>=4.9.0 in /usr/local/lib/python3.12/dist-packages (from python-docx) (4.15.0)\n",
            "Archivo limpio guardado como: escribo julio 2025_limpio.docx\n"
          ]
        }
      ],
      "source": [
        "# -------------------------------\n",
        "# Proyecto: Text Cleaner for Editors\n",
        "# -------------------------------\n",
        "# Este script limpia un manuscrito en Word (.docx)\n",
        "# y lo deja preparado para corrección/maquetación.\n",
        "# Librerías necesarias: python-docx, re\n",
        "\n",
        "!pip install python-docx\n",
        "\n",
        "import re\n",
        "from docx import Document\n",
        "\n",
        "def clean_text(text):\n",
        "    \"\"\"\n",
        "    Aplica reglas básicas de limpieza editorial a un texto.\n",
        "    \"\"\"\n",
        "    # Eliminar dobles espacios\n",
        "    text = re.sub(r\"\\s{2,}\", \" \", text)\n",
        "\n",
        "    # Quitar espacio antes de signos de puntuación\n",
        "    text = re.sub(r\"\\s+([,.;:!?])\", r\"\\1\", text)\n",
        "\n",
        "    # Convertir comillas inglesas a españolas (ejemplo)\n",
        "    text = text.replace('\"', '«').replace(\"'\", \"’\")\n",
        "\n",
        "    # Sustituir guiones cortos mal usados por rayas largas\n",
        "    text = re.sub(r\"\\s-\\s\", \" — \", text)\n",
        "\n",
        "    # Eliminar párrafos vacíos dobles\n",
        "    text = re.sub(r\"\\n{2,}\", \"\\n\", text)\n",
        "\n",
        "    return text\n",
        "\n",
        "\n",
        "def clean_docx(input_file, output_file):\n",
        "    \"\"\"\n",
        "    Abre un documento Word, limpia cada párrafo y guarda un nuevo archivo.\n",
        "    \"\"\"\n",
        "    doc = Document(input_file)\n",
        "    new_doc = Document()\n",
        "\n",
        "    for para in doc.paragraphs:\n",
        "        cleaned_text = clean_text(para.text)\n",
        "        new_doc.add_paragraph(cleaned_text)\n",
        "\n",
        "    new_doc.save(output_file)\n",
        "    print(f\"Archivo limpio guardado como: {output_file}\")\n",
        "\n",
        "\n",
        "# -------------------------------\n",
        "# Ejemplo de uso\n",
        "# -------------------------------\n",
        "# 1. Sube tu archivo manuscrito.docx a Colab (menú lateral -> subir archivo)\n",
        "# 2. Ejecuta este bloque para limpiar y guardar el resultado\n",
        "\n",
        "input_file = \"manuscrito.docx\"          # tu archivo original\n",
        "output_file = \"manuscrito_limpio.docx\"  # archivo limpio\n",
        "\n",
        "clean_docx(input_file, output_file)\n"
      ]
    }
  ]
}